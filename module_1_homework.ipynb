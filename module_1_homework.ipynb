{
 "cells": [
  {
   "cell_type": "markdown",
   "metadata": {
    "pycharm": {
     "name": "#%% md\n"
    }
   },
   "source": [
    "# Домашнее задание на проверку знаний библиотеки для анализа данных Pandas.\n",
    "\n",
    "Вам представлен датасет, который содержит информацию по результатам сезона 2016 года игры в бейсбол.\n",
    "\n",
    "Вам необходимо загрузить датасет (он находится в архиве с текущим домашним заданием). Провести его очистку, если это необходимо и ответить на поставленные аналитические\n",
    "вопросы.\n",
    "\n",
    "Список колонок, представленных в датасете:\n",
    "\n",
    "---\n",
    "* attendance        - количество зрителей матча\n",
    "* away_team         - название гостевой команды\n",
    "* away_team_errors  - количество ошибок гостевой команды\n",
    "* away_team_hits    - количество хитов гостевой команды (хит в бейсболе - удар при котором отбивающий достиг первой базы)\n",
    "* away_team_runs    - количество ранов гостевой команды (ран в бейсболе - очко заработанное игроком нападения)\n",
    "* date              - дата проведения матча\n",
    "* field_type        - тип игрового поля\n",
    "* game_type         - тип игры\n",
    "* home_team         - название домашней команды\n",
    "* home_team_errors  - количество ошибок домашней команды\n",
    "* home_team_hits    - количество хитов домашней команды (хит в бейсболе - удар при котором отбивающий достиг первой базы)\n",
    "* home_team_runs    - количество ранов домашней команды (ран в бейсболе - очко заработанное игроком нападения)\n",
    "* start_time        - время начала игрового матча\n",
    "* venue             - название места проведения матча (стадион, поле, арена)\n",
    "* day_of_week       - день недели проведения матча\n",
    "* temperature       - температура воздуха в день проведения матча в фаренгейтах\n",
    "* wind_speed        - скорость ветра в день проведения матча\n",
    "* wind_direction    - направление скорости ветра\n",
    "* sky               - облачность\n",
    "* total_runs        - общее количество ранов для двух команд\n",
    "* game_hours_dec    - длительность матча указаная в часах\n",
    "* season            - тип игрового сезона\n",
    "* home_team_win     - результат домашней команды (1 - выигрыш)\n",
    "* home_team_loss    - результат домашней команды (0 - проигрыш)\n",
    "* home_team_outcome - исход матча\n",
    "---\n",
    "\n",
    "Всего в задании 20 вопросов. За каждый правильный вопрос начисляется 5 баллов. Таким образом за все правильные ответы вы получите - 100 баллов. Оценка затем будет приведена к 10-ти бальной шкале.\n",
    "\n",
    "---\n",
    "\n",
    "**Кроме того, баллы могут быть снижены за**:\n",
    "\n",
    "- 1 балл снижается за качество кода - старайтесь чтобы код был максимально лаконичным. Названия переменных (если они используются) должны отражать максимальную ее сущность. Вывод старайтесь делать минимальным, так как первичная цель - сделать качественный анализ, чтобы быстро ответить на поставленный вопрос (никаких таблиц на 100 строк).\n",
    "\n",
    "\n",
    "- 5 баллов снижается если ответ на домашнюю работу будет прислан в виде скриншота, ноутбука, текстового файла и прочих способов. Используйте при отправке на проверку только GitHub/GitLab либо прочий сервис. Присылать домашнюю работу необходимо ссылкой на ваш репозиторий на адрес электронной почты maratmovlamov2017@gmail.com\n",
    "\n",
    "\n",
    "- за каждый день просрочки дедлайна снижается по 10 баллов. Один день - минус 10 баллов, второй день минус 10 баллов, третий день минус 10 баллов. Соблюдайте сроки и не приступайте к домашнему заданию в последний момент.\n",
    "\n",
    "---\n",
    "\n",
    "Удачи вам в поисках истинны :)"
   ]
  },
  {
   "cell_type": "code",
   "execution_count": 2,
   "metadata": {
    "pycharm": {
     "name": "#%%\n"
    }
   },
   "outputs": [],
   "source": [
    "# Импортируйте все необходимые библиотеки и модули которые вам необходимы\n",
    "\n",
    "'Импортируем билиотеки numpy и pandas при помощи команды import и присваиваем им через оператор as элиасы np и pd - сокращенные названия библиотек'\n",
    "import numpy as np\n",
    "import pandas as pd"
   ]
  },
  {
   "cell_type": "code",
   "execution_count": 25,
   "metadata": {
    "pycharm": {
     "name": "#%%\n"
    }
   },
   "outputs": [
    {
     "name": "stdout",
     "output_type": "stream",
     "text": [
      "      Unnamed: 0  attendance              away_team  away_team_errors  \\\n",
      "0              0     40030.0          New York Mets                 1   \n",
      "1              1     21621.0  Philadelphia Phillies                 0   \n",
      "2              2     12622.0        Minnesota Twins                 0   \n",
      "3              3     18531.0   Washington Nationals                 0   \n",
      "4              4     18572.0       Colorado Rockies                 1   \n",
      "...          ...         ...                    ...               ...   \n",
      "2458        2458     31042.0      Toronto Blue Jays                 2   \n",
      "2459        2459     39500.0    St. Louis Cardinals                 0   \n",
      "2460        2460     20098.0   San Francisco Giants                 0   \n",
      "2461        2461     17883.0         Detroit Tigers                 0   \n",
      "2462        2462     10298.0         Boston Red Sox                 1   \n",
      "\n",
      "      away_team_hits  away_team_runs        date field_type   game_type  \\\n",
      "0                  7               3  2016-04-03   on grass  Night Game   \n",
      "1                  5               2  2016-04-06   on grass  Night Game   \n",
      "2                  5               2  2016-04-06   on grass  Night Game   \n",
      "3                  8               3  2016-04-06   on grass  Night Game   \n",
      "4                  8               4  2016-04-06   on grass    Day Game   \n",
      "...              ...             ...         ...        ...         ...   \n",
      "2458               7               5  2016-04-03    on turf    Day Game   \n",
      "2459               5               1  2016-04-03   on grass    Day Game   \n",
      "2460               6               3  2016-04-06   on grass    Day Game   \n",
      "2461              13               7  2016-04-06   on grass    Day Game   \n",
      "2462              10               6  2016-04-06   on grass  Night Game   \n",
      "\n",
      "                 home_team  ...  temperature  wind_speed  \\\n",
      "0       Kansas City Royals  ...         74.0        14.0   \n",
      "1          Cincinnati Reds  ...         55.0        24.0   \n",
      "2        Baltimore Orioles  ...         48.0         7.0   \n",
      "3           Atlanta Braves  ...         65.0        10.0   \n",
      "4     Arizona Diamondbacks  ...         77.0         0.0   \n",
      "...                    ...  ...          ...         ...   \n",
      "2458        Tampa Bay Rays  ...         72.0         0.0   \n",
      "2459    Pittsburgh Pirates  ...         39.0        14.0   \n",
      "2460     Milwaukee Brewers  ...         66.0         0.0   \n",
      "2461         Miami Marlins  ...         71.0         0.0   \n",
      "2462     Cleveland Indians  ...         60.0         7.0   \n",
      "\n",
      "             wind_direction       sky total_runs game_hours_dec  \\\n",
      "0        from Right to Left     Sunny          7       3.216667   \n",
      "1        from Right to Left  Overcast          5       2.383333   \n",
      "2          out to Leftfield   Unknown          6       3.183333   \n",
      "3        from Right to Left    Cloudy          4       2.883333   \n",
      "4      in unknown direction   In Dome          7       2.650000   \n",
      "...                     ...       ...        ...            ...   \n",
      "2458   in unknown direction   In Dome          8       2.850000   \n",
      "2459       out to Leftfield   Unknown          5       3.033333   \n",
      "2460   in unknown direction   In Dome          7       3.316667   \n",
      "2461   in unknown direction   In Dome         10       3.366667   \n",
      "2462       out to Leftfield   Unknown         13       3.483333   \n",
      "\n",
      "              season  home_team_win home_team_loss home_team_outcome  \n",
      "0     regular season              1              0               Win  \n",
      "1     regular season              1              0               Win  \n",
      "2     regular season              1              0               Win  \n",
      "3     regular season              0              1              Loss  \n",
      "4     regular season              0              1              Loss  \n",
      "...              ...            ...            ...               ...  \n",
      "2458  regular season              0              1              Loss  \n",
      "2459  regular season              1              0               Win  \n",
      "2460  regular season              1              0               Win  \n",
      "2461  regular season              0              1              Loss  \n",
      "2462  regular season              1              0               Win  \n",
      "\n",
      "[2463 rows x 26 columns]\n"
     ]
    },
    {
     "name": "stderr",
     "output_type": "stream",
     "text": [
      "C:\\Users\\ACER\\AppData\\Local\\Temp\\ipykernel_2880\\1314060598.py:14: FutureWarning: A value is trying to be set on a copy of a DataFrame or Series through chained assignment using an inplace method.\n",
      "The behavior will change in pandas 3.0. This inplace method will never work because the intermediate object on which we are setting values always behaves as a copy.\n",
      "\n",
      "For example, when doing 'df[col].method(value, inplace=True)', try using 'df.method({col: value}, inplace=True)' or df[col] = df[col].method(value) instead, to perform the operation inplace on the original object.\n",
      "\n",
      "\n",
      "  df['attendance'].fillna(mean, inplace=True)\n"
     ]
    },
    {
     "data": {
      "text/plain": [
       "'Если проверить командой df.isnull().sum() повторно на пропуски, то можем увидеть, что значения Nan будут отсутсвовать'"
      ]
     },
     "execution_count": 25,
     "metadata": {},
     "output_type": "execute_result"
    }
   ],
   "source": [
    "# Загрузите датасет и проведите его очистку и форматирование если это необходимо\n",
    "\n",
    "'Используя библиотеку pandas по элиасу pd считываем csv файл используя команду read_csv указывая путь нахождения файла'\n",
    "df = pd.read_csv('D:/DataScience/IT Academy/practical_task_1/baseball_games.csv')\n",
    "\n",
    "'Для подсчета колличества пропущенных элементов (Nan) в нашем датафрейме воспользуемся следующей командой:'\n",
    "df.isnull().sum()\n",
    "\n",
    "'''Если ее выполнить, то получим, что в столбце attendance есть 3-и пропущенных элемента (Nan) которые не повлияют на результирующие значения,\n",
    "   можно заменить их средними значениями или 0, заменим средними, для этого расчитаем средне значение для столбца attendance:'''\n",
    "mean = df['attendance'].mean()\n",
    "'''Теперь мы заменяем пропущенные значения в столбце attendance на расчитанное среднее значение mean.\n",
    "   inplace=True указывает на то, что изменения должны быть внесены непосредственно в датафрейм df'''\n",
    "df['attendance'].fillna(mean, inplace=True)\n",
    "\n",
    "'Выводим на печать (print) датафрейм (df)'\n",
    "print(df)\n",
    "\n",
    "'Если проверить командой df.isnull().sum() повторно на пропуски, то можем увидеть, что значения Nan будут отсутсвовать'"
   ]
  },
  {
   "cell_type": "markdown",
   "metadata": {
    "pycharm": {
     "name": "#%% md\n"
    }
   },
   "source": [
    "# 1. На какую игру пришло максимальное количество зрителей за весь сезон игр?"
   ]
  },
  {
   "cell_type": "code",
   "execution_count": 4,
   "metadata": {
    "pycharm": {
     "name": "#%%\n"
    }
   },
   "outputs": [
    {
     "name": "stdout",
     "output_type": "stream",
     "text": [
      "Игра с максимальным количеством зрителей была между командами Los Angeles Dodgers и Chicago Cubs с кол-вом зрителей 54449.0.\n"
     ]
    }
   ],
   "source": [
    "'CПРАВКА: весь сезон подразумевает, что в параметре season используется одновременно и regular season и post season'\n",
    "\n",
    "'''При помощи атрибута loc проводим индексацию в нашем датафрейме (df) по индексу максимального значения (idxmax),\n",
    "   для кол-ва зрителей в матче (attendance). В результате получаем игру (объект | строка) с максимальным кол-вом зрителей'''\n",
    "row = df.loc[df['attendance'].idxmax()]\n",
    "\n",
    "'Выводим на печать игру между определенными командами с общим кол-вом зрителей, используя f-строку'\n",
    "print(f\"Игра с максимальным количеством зрителей была между командами {row['home_team']} и {row['away_team']} с кол-вом зрителей {row['attendance']}.\")"
   ]
  },
  {
   "cell_type": "markdown",
   "metadata": {
    "pycharm": {
     "name": "#%% md\n"
    }
   },
   "source": [
    "# 2. Какая игра была самая холодная (temperature) за весь сезон?"
   ]
  },
  {
   "cell_type": "code",
   "execution_count": 5,
   "metadata": {
    "pycharm": {
     "name": "#%%\n"
    }
   },
   "outputs": [
    {
     "name": "stdout",
     "output_type": "stream",
     "text": [
      "Самая холодная игра была между командами Detroit Tigers и New York Yankees с температурой 31.0 градусов по Фаренгейту.\n"
     ]
    }
   ],
   "source": [
    "'''При помощи атрибута loc проводим индексацию в нашем датафрейме (df) по индексу минимального значения (idxmin),\n",
    "   для температуры воздуха в день проведения матча (temperature). В результате получаем игру (объект | строка) с минимальной температурой'''\n",
    "row = df.loc[df['temperature'].idxmin()]\n",
    "\n",
    "'Выводим на печать игру между определенными командами с минимальным значением температуры'\n",
    "print(f'Самая холодная игра была между командами {row['home_team']} и {row['away_team']} с температурой {row['temperature']} градусов по Фаренгейту.')"
   ]
  },
  {
   "cell_type": "markdown",
   "metadata": {
    "pycharm": {
     "name": "#%% md\n"
    }
   },
   "source": [
    "# 3. Какая игра была самая теплая за весь сезон?"
   ]
  },
  {
   "cell_type": "code",
   "execution_count": 6,
   "metadata": {
    "pycharm": {
     "name": "#%%\n"
    }
   },
   "outputs": [
    {
     "name": "stdout",
     "output_type": "stream",
     "text": [
      "Самая теплая игра была между командами Arizona Diamondbacks и San Francisco Giants с температурой 101.0 градусов по Фаренгейту.\n"
     ]
    }
   ],
   "source": [
    "'''При помощи атрибута loc проводим индексацию в нашем датафрейме (df) по индексу максимального значения (idxmax),\n",
    "   для температуры воздуха в день проведения матча (temperature). В результате получаем игру (объект | строка) с максимальной температурой'''\n",
    "row = df.loc[df['temperature'].idxmax()]\n",
    "\n",
    "'Выводим на печать игру между определенными командами с максимальным значением температуры'\n",
    "print(f'Самая теплая игра была между командами {row['home_team']} и {row['away_team']} с температурой {row['temperature']} градусов по Фаренгейту.')"
   ]
  },
  {
   "cell_type": "markdown",
   "metadata": {
    "pycharm": {
     "name": "#%% md\n"
    }
   },
   "source": [
    "# 4. Какая игра в сезоне была самая долгая по продолжительности матча?"
   ]
  },
  {
   "cell_type": "code",
   "execution_count": 7,
   "metadata": {
    "pycharm": {
     "name": "#%%\n"
    }
   },
   "outputs": [
    {
     "name": "stdout",
     "output_type": "stream",
     "text": [
      "1) Самая долгая игра в регулярном сезоне была между командами Toronto Blue Jays \n",
      "и Cleveland Indians с длительностью матча 6 часов \n",
      "13 минут.\n",
      "2) Самая долгая игра в пост-сезоне была между командами San Francisco Giants \n",
      "и Chicago Cubs с длительностью матча 5 часов \n",
      "3 минуты.\n",
      "СПРАВКА: больше разбивать по groupby не буду)\n"
     ]
    }
   ],
   "source": [
    "'''При помощи атрибута loc проводим индексацию в нашем датафрейме (df) одновременно группируя данные по сезону (season),\n",
    "   что бы увидить самые продолжительные матчи в сезоне (season).\n",
    "   В результате получаем 2-е игры (объекта | строки) с самыми продолжительными матчами в сезоне regular season и post season'''\n",
    "long_game = df.loc[df.groupby('season')['game_hours_dec'].idxmax()]\n",
    "\n",
    "'По нашему Дата Фрейму (long_game) берем игру в регулярном сезоне (regular season)'\n",
    "season_reg = long_game[long_game['season'] == 'regular season']\n",
    "\n",
    "'По нашему Дата Фрейму (long_game) берем игру в после игровом сезоне (post season)'\n",
    "season_post = long_game[long_game['season'] == 'post season']\n",
    "\n",
    "'''Выводим результат регулярного сезона на печать, разбивая время отдельно на часы и минуты.\n",
    "   Использование '.iloc[0]' требовал Юпитер, но ответ и без него выводил.'''\n",
    "print(f'''1) Самая долгая игра в регулярном сезоне была между командами {season_reg['home_team'].iloc[0]} \n",
    "и {season_reg['away_team'].iloc[0]} с длительностью матча {int(season_reg['game_hours_dec'].iloc[0])} часов \n",
    "{int((season_reg['game_hours_dec'].iloc[0] - int(season_reg['game_hours_dec'].iloc[0])) * 60)} минут.''')\n",
    "\n",
    "'Выводим результат пост-сезона на печать, разбивая время отдельно на часы и минуты'\n",
    "print(f'''2) Самая долгая игра в пост-сезоне была между командами {season_post['home_team'].iloc[0]} \n",
    "и {season_post['away_team'].iloc[0]} с длительностью матча {int(season_post['game_hours_dec'].iloc[0])} часов \n",
    "{int((season_post['game_hours_dec'].iloc[0] - int(season_post['game_hours_dec'].iloc[0])) * 60)} минуты.''')\n",
    "\n",
    "print('СПРАВКА: больше разбивать по groupby не буду)')"
   ]
  },
  {
   "cell_type": "markdown",
   "metadata": {
    "pycharm": {
     "name": "#%% md\n"
    }
   },
   "source": [
    "# 5. Какая игра в сезоне была самая короткая по продолжительности матча?"
   ]
  },
  {
   "cell_type": "code",
   "execution_count": 8,
   "metadata": {
    "pycharm": {
     "name": "#%%\n"
    }
   },
   "outputs": [
    {
     "name": "stdout",
     "output_type": "stream",
     "text": [
      "Самая короткая игра по продолжительности была между командами Pittsburgh Pirates и Chicago Cubs \n",
      "          с длительностью матча 1 час \n",
      "          15 минут.\n"
     ]
    }
   ],
   "source": [
    "'CПРАВКА: игра в сезон подразумевает, что в параметре season использует только regular season, без использования post season'\n",
    "\n",
    "'Фильтруем данные сезона (season), используя в дальнейшем только данные, для регулярного сезона (regular season)'\n",
    "regular_season_df = df[df['season'] == 'regular season']\n",
    "\n",
    "'''При помощи атрибута loc проводим индексацию в отфильтрованном по regular season Датасете (regular_season_df) \n",
    "   по индексу минимального значения (idxmin), что бы увидить самую коротку игру в regular season. \n",
    "   В результате получаем игру (объект | строка) с минимальной длительностью по времени'''\n",
    "short_time = regular_season_df.loc[regular_season_df['game_hours_dec'].idxmin()]\n",
    "\n",
    "'Выводим результат регулярного сезона на печать, разбивая время отдельно на часы и минуты'\n",
    "print(f'''Самая короткая игра по продолжительности была между командами {short_time['home_team']} и {short_time['away_team']} \n",
    "          с длительностью матча {int(short_time['game_hours_dec'])} час \n",
    "          {int((short_time['game_hours_dec'] - int(short_time['game_hours_dec'])) * 60)} минут.''')"
   ]
  },
  {
   "cell_type": "markdown",
   "metadata": {
    "pycharm": {
     "name": "#%% md\n"
    }
   },
   "source": [
    "# 6. Сколько матчей в сезоне закончилось ничьей?"
   ]
  },
  {
   "cell_type": "code",
   "execution_count": 9,
   "metadata": {
    "pycharm": {
     "name": "#%%\n"
    }
   },
   "outputs": [
    {
     "name": "stdout",
     "output_type": "stream",
     "text": [
      "Количество матчей, закончившихся ничьей: 1\n"
     ]
    }
   ],
   "source": [
    "'''Проверяем наличие ничьих в матче (если ничья подразумевает одинаковое кол-во побед и поражений) \n",
    "   используя отфильтрованный датафрейм regular_season_df. \n",
    "   Результат выводит матч, где кол-во home_team_win = home_team_loss'''\n",
    "nobody = regular_season_df[(regular_season_df['home_team_win'] == regular_season_df['home_team_loss'])]\n",
    "\n",
    "'Используя f-строку выводим на печать кол-во строк (len) в датафрейме (nobody), т.е. кол-во матчей, которые соответствуют критерию ничьей'\n",
    "print(f\"Количество матчей, закончившихся ничьей: {len(nobody)}\")"
   ]
  },
  {
   "cell_type": "markdown",
   "metadata": {
    "pycharm": {
     "name": "#%% md\n"
    }
   },
   "source": [
    "# 7. Какая игра была последней в сезоне?"
   ]
  },
  {
   "cell_type": "code",
   "execution_count": 10,
   "metadata": {
    "pycharm": {
     "name": "#%%\n"
    }
   },
   "outputs": [
    {
     "name": "stdout",
     "output_type": "stream",
     "text": [
      "     Unnamed: 0  attendance          away_team  away_team_errors  \\\n",
      "395         395     36787.0  Toronto Blue Jays                 0   \n",
      "\n",
      "     away_team_hits  away_team_runs        date field_type game_type  \\\n",
      "395               9               2  2016-10-02   on grass  Day Game   \n",
      "\n",
      "          home_team  ...  temperature  wind_speed     wind_direction      sky  \\\n",
      "395  Boston Red Sox  ...         56.0         6.0   out to Leftfield  Unknown   \n",
      "\n",
      "    total_runs game_hours_dec          season  home_team_win home_team_loss  \\\n",
      "395          3       3.233333  regular season              0              1   \n",
      "\n",
      "    home_team_outcome  \n",
      "395              Loss  \n",
      "\n",
      "[1 rows x 26 columns]\n"
     ]
    }
   ],
   "source": [
    "'''Используя отфильтрованный датафрейм regular_season_df сортируем его методом sort_values()\n",
    "   по дате и времени начала матча (by=[date, start_time]), (ascending=True означает сортировку по возрастанию).\n",
    "   Так как в последний день ('2016-10-02') было несколько игр, то вводим в сортировку еще один столбец, что бы отсортировать и время проведения.\n",
    "   Результат выводит матч с самой поздней датой и временем, при помощи tail(1) - выводим последний объект (в скобках указывается кол-во строк для вывода)'''\n",
    "last_game = regular_season_df.sort_values(by=['date', 'start_time'], ascending=True).tail(1)\n",
    "\n",
    "'''Выводим последнюю игру в regular season на печать'''\n",
    "print(last_game)"
   ]
  },
  {
   "cell_type": "markdown",
   "metadata": {
    "pycharm": {
     "name": "#%% md\n"
    }
   },
   "source": [
    "# 8. У какой игры было минимальное количество зрителей?"
   ]
  },
  {
   "cell_type": "code",
   "execution_count": 11,
   "metadata": {
    "pycharm": {
     "name": "#%%\n"
    }
   },
   "outputs": [
    {
     "name": "stdout",
     "output_type": "stream",
     "text": [
      "Игра с минимальным количеством зрителей была между командами Cleveland Indians \n",
      "и Detroit Tigers с количеством зрителей 8766.0.\n"
     ]
    }
   ],
   "source": [
    "'''При помощи атрибута loc проводим индексацию в нашем исходном датафрейме (df) по индексу минимального значения (idxmin),\n",
    "   для кол-ва зрителей в матче (attendance). В результате получаем игру (объект | строка) с минимальным кол-вом зрителей'''\n",
    "min_attendance = df.loc[df['attendance'].idxmin()]\n",
    "\n",
    "'''Используя f-строку выводим на печать название домашней команды (home_team) и название гостевой команды (away_team) \n",
    "   с общим кол-вом зрителей (attendance), для игры с минимальным кол-вом зрителей'''\n",
    "print(f'''Игра с минимальным количеством зрителей была между командами {min_attendance['home_team']} \n",
    "и {min_attendance['away_team']} с количеством зрителей {min_attendance['attendance']}.''')"
   ]
  },
  {
   "cell_type": "markdown",
   "metadata": {
    "pycharm": {
     "name": "#%% md\n"
    }
   },
   "source": [
    "# 9. Какая игра в сезоне была самая ветренная?"
   ]
  },
  {
   "cell_type": "code",
   "execution_count": 12,
   "metadata": {
    "pycharm": {
     "name": "#%%\n"
    }
   },
   "outputs": [
    {
     "name": "stdout",
     "output_type": "stream",
     "text": [
      "Игра, с самой бытрой скоростью ветра была между командами Arizona Diamondbacks и San Francisco Giants скорость ветра = 9.0.\n"
     ]
    }
   ],
   "source": [
    "'''При помощи атрибута loc проводим индексацию в нашем отфильтрованном датафрейм (regular_season_df) и по индексу максимального значения (idxmax),\n",
    "   находим игру (объект | строка) с максимальной скоростью воздуха (wind_speed).'''\n",
    "wind_max = regular_season_df.loc[regular_season_df['wind_speed'].idxmax()]\n",
    "\n",
    "'''Используя f-строку выводим на печать название домашней команды (home_team) и название гостевой команды (away_team)\n",
    "   с значением скорости ветра (wind_speed), для игры с максимальной скоростью ветра'''\n",
    "print(f\"Игра, с самой бытрой скоростью ветра была между командами {row['home_team']} и {row['away_team']} скорость ветра = {row['wind_speed']}.\")"
   ]
  },
  {
   "cell_type": "markdown",
   "metadata": {
    "pycharm": {
     "name": "#%% md\n"
    }
   },
   "source": [
    "# 10. В какой игре получили максимальное количество очков?"
   ]
  },
  {
   "cell_type": "code",
   "execution_count": 13,
   "metadata": {
    "pycharm": {
     "name": "#%%\n"
    }
   },
   "outputs": [
    {
     "name": "stdout",
     "output_type": "stream",
     "text": [
      "Игра, между командами San Diego Padres и Seattle Mariners получили самое большое кол-во очков: 29.\n"
     ]
    }
   ],
   "source": [
    "'''При помощи атрибута loc проводим индексацию в нашем исходном датафрейме (df) по индексу максимального значения (idxmax),\n",
    "   для максимального кол-ва очков в матче, для обоих команд (total_runs). \n",
    "   В результате получаем игру (объект | строка) с максимальный кол-вом очков'''\n",
    "max_runs = df.loc[df['total_runs'].idxmax()]\n",
    "\n",
    "'''Используя f-строку выводим на печать матч с название домашней команды (home_team) и название гостевой команды (away_team)\n",
    "   с максимальным значением кол-ва очков (total_runs)'''\n",
    "print(f'Игра, между командами {max_runs['home_team']} и {max_runs['away_team']} получили самое большое кол-во очков: {max_runs['total_runs']}.')"
   ]
  },
  {
   "cell_type": "markdown",
   "metadata": {
    "pycharm": {
     "name": "#%% md\n"
    }
   },
   "source": [
    "# 11. Какая игра содержала максимальное количество ошибок домашней команды?"
   ]
  },
  {
   "cell_type": "code",
   "execution_count": 14,
   "metadata": {
    "pycharm": {
     "name": "#%%\n"
    }
   },
   "outputs": [
    {
     "name": "stdout",
     "output_type": "stream",
     "text": [
      "Игра домашней команды Milwaukee Brewers против Arizona Diamondbacks \n",
      "получила наибольшим кол-во ошибок = 5.\n"
     ]
    }
   ],
   "source": [
    "'''При помощи атрибута loc проводим индексацию в нашем исходном датафрейме (df) по индексу максимального значения (idxmax),\n",
    "   для определения максимального кол-ва ошибок домашней команды в матче (home_team_errors). \n",
    "   В результате получаем игру (объект | строка) с максимальным кол-вом ошибок домашней команды'''\n",
    "home_team_errors_max = df.loc[df['home_team_errors'].idxmax()]\n",
    "\n",
    "'''Используя f-строку выводим на печать матч с название домашней команды (home_team) и название гостевой команды (away_team)\n",
    "   с значением максимального кол-ва ошибок домашней команды (home_team_errors)'''\n",
    "print(f'''Игра домашней команды {home_team_errors_max['home_team']} против {home_team_errors_max['away_team']} \n",
    "получила наибольшим кол-во ошибок = {home_team_errors_max['home_team_errors']}.''')"
   ]
  },
  {
   "cell_type": "markdown",
   "metadata": {
    "pycharm": {
     "name": "#%% md\n"
    }
   },
   "source": [
    "# 12. В какой игре было максимальное количество хитов?"
   ]
  },
  {
   "cell_type": "code",
   "execution_count": 15,
   "metadata": {
    "pycharm": {
     "name": "#%%\n"
    }
   },
   "outputs": [
    {
     "name": "stdout",
     "output_type": "stream",
     "text": [
      "Игра с максимальным количеством хитов была между командами Boston Red Sox и Texas Rangers \n",
      "с общим кол-вом хитов: 37.\n"
     ]
    }
   ],
   "source": [
    "'''При помощи атрибута loc проводим индексацию в нашем исходном датафрейме (df) по индексу максимального значения (idxmax),\n",
    "   для определения максимального кол-ва хитов в играх (home_team_hits) и гостевой (away_team_hits).\n",
    "   Для этого проводим конкатенацию (при помощи знака \"+\") двух столбов: home_team_hits + away_team_hits.\n",
    "   В результате получаем игру (объект | строка) с максимальным кол-вом хитов'''\n",
    "max_hits_game = df.loc[(df['home_team_hits'] + df['away_team_hits']).idxmax()]\n",
    "\n",
    "'Так же для конкатенации можно использовать метод pd.concat(), она позволяет более гибко объеденять датафреймы по столбам (axis=0) и стокам (axis=1)'\n",
    "\n",
    "print(f'''Игра с максимальным количеством хитов была между командами {max_hits_game['home_team']} и {max_hits_game['away_team']} \n",
    "с общим кол-вом хитов: {max_hits_game['home_team_hits'] + max_hits_game['away_team_hits']}.''')"
   ]
  },
  {
   "cell_type": "markdown",
   "metadata": {
    "pycharm": {
     "name": "#%% md\n"
    }
   },
   "source": [
    "# 13. Выведите количество игр которая сыграла каждая команда в данном сезоне?"
   ]
  },
  {
   "cell_type": "code",
   "execution_count": 16,
   "metadata": {
    "pycharm": {
     "name": "#%%\n"
    }
   },
   "outputs": [
    {
     "name": "stdout",
     "output_type": "stream",
     "text": [
      "Arizona Diamondbacks             162\n",
      "Atlanta Braves                   161\n",
      "Baltimore Orioles                162\n",
      "Boston Red Sox                   162\n",
      "Chicago Cubs                     162\n",
      "Chicago White Sox                162\n",
      "Cincinnati Reds                  162\n",
      "Cleveland Indians                161\n",
      "Colorado Rockies                 162\n",
      "Detroit Tigers                   161\n",
      "Houston Astros                   162\n",
      "Kansas City Royals               162\n",
      "Los Angeles Angels of Anaheim    162\n",
      "Los Angeles Dodgers              162\n",
      "Miami Marlins                    161\n",
      "Milwaukee Brewers                162\n",
      "Minnesota Twins                  162\n",
      "New York Mets                    162\n",
      "New York Yankees                 162\n",
      "Oakland Athletics                162\n",
      "Philadelphia Phillies            162\n",
      "Pittsburgh Pirates               162\n",
      "San Diego Padres                 162\n",
      "San Francisco Giants             162\n",
      "Seattle Mariners                 162\n",
      "St. Louis Cardinals              162\n",
      "Tampa Bay Rays                   162\n",
      "Texas Rangers                    162\n",
      "Toronto Blue Jays                162\n",
      "Washington Nationals             162\n",
      "Name: count, dtype: int64\n"
     ]
    }
   ],
   "source": [
    "'Считаем количество игр в нашем исходном датафрейме (df), для домашней команды в регулярном сезоне'\n",
    "home_games = df[df['season'] == 'regular season']['home_team'].value_counts()\n",
    "\n",
    "'Считаем количество игр в нашем исходном датафрейме (df), для гостевой команды в регулярном сезоне'\n",
    "away_games = df[df['season'] == 'regular season']['away_team'].value_counts()\n",
    "\n",
    "'Метод value_counts() используется для подсчета общего кол-ва уникальных значений в столбце датафрейма'\n",
    "\n",
    "'Слаживаем результаты для каждой команды поэлементно и заносим их в один общий датафрейм (total_games)'\n",
    "total_games = home_games.add(away_games)\n",
    "\n",
    "'Выводим результат на печать'\n",
    "print(total_games)"
   ]
  },
  {
   "cell_type": "markdown",
   "metadata": {
    "pycharm": {
     "name": "#%% md\n"
    }
   },
   "source": [
    "# 14. Какая команда выиграла наибольшое количество матчей в сезоне? (Будьте внимательны с типом матча в сезоне - season)."
   ]
  },
  {
   "cell_type": "code",
   "execution_count": 17,
   "metadata": {
    "pycharm": {
     "name": "#%%\n"
    }
   },
   "outputs": [
    {
     "name": "stdout",
     "output_type": "stream",
     "text": [
      "В регулярном сезоне, команда Chicago Cubs выиграла наибольшее кол-во: 104 победы.\n"
     ]
    }
   ],
   "source": [
    "'''Считаем количество выигранных игр (home_team_win = 1) в нашем отфильтрованном датафрейме (regular_season_df),\n",
    "   для домашней команды в регулярном сезоне'''\n",
    "home_win = regular_season_df[regular_season_df['home_team_win'] == 1]['home_team'].value_counts()\n",
    "\n",
    "'''Считаем количество выигранных игр в нашем отфильтрованном датафрейме (regular_season_df), для гостевой команды в регулярном сезоне.\n",
    "   Если домашняя команда проиграла (home_team_win = 0) значит гостевая команда (away_team) выиграла'''\n",
    "away_win = regular_season_df[regular_season_df['home_team_win'] == 0]['away_team'].value_counts()\n",
    "\n",
    "'Слаживаем результаты для каждой команды поэлементно и заносим их в один общий датафрейм (total_win)'\n",
    "total_win = home_win.add(away_win)\n",
    "\n",
    "'Используя f-строку выводим на печать команду, которая выиграла наибольшее кол-во матчей в регулярном сезоне'\n",
    "print(f'В регулярном сезоне, команда {total_win.idxmax()} выиграла наибольшее кол-во: {total_win.max()} победы.')"
   ]
  },
  {
   "cell_type": "markdown",
   "metadata": {
    "pycharm": {
     "name": "#%% md\n"
    }
   },
   "source": [
    "# 15. Какая команда выиграла наибольшее количество домашних матчей в сезоне?"
   ]
  },
  {
   "cell_type": "code",
   "execution_count": 18,
   "metadata": {
    "pycharm": {
     "name": "#%%\n"
    }
   },
   "outputs": [
    {
     "name": "stdout",
     "output_type": "stream",
     "text": [
      "В регулярном сезоне, комнада Chicago Cubs выиграла наибольшее кол-во домашних матчей: 57 побед.\n"
     ]
    }
   ],
   "source": [
    "'''Используя отфильтрованный датафрейм (regular_season_df) находим наибольшее кол-во выигранных домашних матчей \n",
    "   в регулярном сезоне по аналогии с предыдущей задачей'''\n",
    "home_win = regular_season_df[regular_season_df['home_team_win'] == 1]['home_team'].value_counts()\n",
    "\n",
    "'Используя f-строку выводим на печать команду, которая выиграла наибольшее кол-во домашних матчей в регулярном сезоне'\n",
    "print(f'В регулярном сезоне, комнада {home_win.idxmax()} выиграла наибольшее кол-во домашних матчей: {home_win.max()} побед.')"
   ]
  },
  {
   "cell_type": "markdown",
   "metadata": {
    "pycharm": {
     "name": "#%% md\n"
    }
   },
   "source": [
    "# 16. Какая команда выиграла наибольшее количество гостевых матчей в сезоне?"
   ]
  },
  {
   "cell_type": "code",
   "execution_count": 19,
   "metadata": {
    "pycharm": {
     "name": "#%%\n"
    }
   },
   "outputs": [
    {
     "name": "stdout",
     "output_type": "stream",
     "text": [
      "В регулярном сезоне, комнада St. Louis Cardinals выиграла наибольшее кол-во гостевых матчей: 48 побед.\n"
     ]
    }
   ],
   "source": [
    "'''Используя отфильтрованный датафрейм (regular_season_df) находим наибольшее кол-во выигранных гостевых матчей \n",
    "   в регулярном сезоне по аналогии с предыдущей задачей'''\n",
    "away_win = regular_season_df[regular_season_df['home_team_win'] == 0]['away_team'].value_counts()\n",
    "\n",
    "'Используя f-строку выводим на печать команду, которая выиграла наибольшее кол-во гостевых матчей в регулярном сезоне'\n",
    "print(f'В регулярном сезоне, комнада {away_win.idxmax()} выиграла наибольшее кол-во гостевых матчей: {away_win.max()} побед.')"
   ]
  },
  {
   "cell_type": "markdown",
   "metadata": {
    "pycharm": {
     "name": "#%% md\n"
    }
   },
   "source": [
    "# 17. Какая команда проиграла наибольшее количество матчей в сезоне?"
   ]
  },
  {
   "cell_type": "code",
   "execution_count": 20,
   "metadata": {
    "pycharm": {
     "name": "#%%\n"
    }
   },
   "outputs": [
    {
     "name": "stdout",
     "output_type": "stream",
     "text": [
      "В регулярном сезоне, команда Minnesota Twins проиграла наибольшее кол-во раз: 103 проигрыша.\n"
     ]
    }
   ],
   "source": [
    "'''Считаем количество проигранных игр (home_team_loss = 1) в нашем отфильтрованном датафрейме (regular_season_df),\n",
    "   для домашней команды в регулярном сезоне'''\n",
    "home_loss = regular_season_df[regular_season_df['home_team_loss'] == 1]['home_team'].value_counts()\n",
    "\n",
    "'''Считаем количество проигранных игр в нашем отфильтрованном датафрейме (regular_season_df), для гостевой команды в регулярном сезоне.\n",
    "   Если домашняя команда выиграла (home_team_loss = 0) значит гостевая команда (away_team) проиграла'''\n",
    "away_loss = regular_season_df[regular_season_df['home_team_loss'] == 0]['away_team'].value_counts()\n",
    "\n",
    "'Слаживаем результаты для каждой команды поэлементно и заносим их в один общий датафрейм (total_loss)'\n",
    "total_loss = home_loss.add(away_loss)\n",
    "\n",
    "'Используя f-строку выводим на печать команду, которая проиграла наибольшее кол-во матчей в регулярном сезоне'\n",
    "print(f'В регулярном сезоне, команда {total_loss.idxmax()} проиграла наибольшее кол-во раз: {total_loss.max()} проигрыша.')"
   ]
  },
  {
   "cell_type": "markdown",
   "metadata": {
    "pycharm": {
     "name": "#%% md\n"
    }
   },
   "source": [
    "# 18. Зависит ли выигрыш от количества посетителей матча? (https://pandas.pydata.org/docs/reference/api/pandas.DataFrame.cov.html)"
   ]
  },
  {
   "cell_type": "code",
   "execution_count": 24,
   "metadata": {
    "pycharm": {
     "name": "#%%\n"
    }
   },
   "outputs": [
    {
     "name": "stdout",
     "output_type": "stream",
     "text": [
      "               total_win    attendance\n",
      "total_win     292.778724  6.191944e+04\n",
      "attendance  61919.439167  9.740601e+07\n",
      "Результат побочной диагонали (61919.43) указывает на положительную ковариацию, \n",
      "между количеством побед команд и количеством зрителей, а элементы главной диагонали \n",
      "показывают насколько сильно варьируется общее количество побед команд от количества зрителей.\n"
     ]
    }
   ],
   "source": [
    "'''Что бы определить, зависит ли победа (home_team_win) от кол-ва посетителей (attendance), для начала выведем \n",
    "   выигранные игры в нашем исходном датафрейме (df), для домашней команды'''\n",
    "home_win = df[df['home_team_win'] == 1]['home_team'].value_counts()\n",
    "\n",
    "'Теперь выведем выиграшные игры для в нашем исходном датафрейме (df), для гослевой команды команды'\n",
    "away_win = df[df['home_team_win'] == 0]['away_team'].value_counts()\n",
    "\n",
    "'Используя метод add, сложим home_win и away_win, для получения результирующей переменной total_win.'\n",
    "total_win = home_win.add(away_win)\n",
    "\n",
    "'''Для того, что бы проанализировать данный ковариацией необходимо наши результирующие данные занести в столбец, \n",
    "   для этого создадим новый столбец (total_win) в нашем датафрейме (df)\n",
    "   Метод apply применяет анонимную функцию lambda, которая принимает на ввод одну строку (row) в качестве аргумента.\n",
    "   Здесь мы передаем axis=1, что указывает на применение функции к каждой строке.\n",
    "   При помощи get мы возвращает кол-во побед домашней команды из total_win. \n",
    "   Если команда не найдена, возвращается значение по умолчанию 0.'''\n",
    "df['total_win'] = df.apply(lambda row: total_win.get(row['home_team'], 0) + total_win.get(row['away_team'], 0), axis=1)\n",
    "\n",
    "'''Находим значение ковариацией нашего датафрейма (df), для столбцов total_win и attendance используя метод cov()'''\n",
    "covariance = df[['total_win', 'attendance']].cov()\n",
    "\n",
    "'Выводим на печать результаты ковариации'\n",
    "print(covariance)\n",
    "print('''Результат побочной диагонали (61919.43) указывает на положительную ковариацию, \n",
    "между количеством побед команд и количеством зрителей, а элементы главной диагонали \n",
    "показывают насколько сильно варьируется общее количество побед команд от количества зрителей.''')"
   ]
  },
  {
   "cell_type": "markdown",
   "metadata": {
    "pycharm": {
     "name": "#%% md\n"
    }
   },
   "source": [
    "# 19. Правда ли что большинство проигрышных домашних матчей приходятся на Субботу и Воскресенье?"
   ]
  },
  {
   "cell_type": "code",
   "execution_count": 22,
   "metadata": {
    "pycharm": {
     "name": "#%%\n"
    }
   },
   "outputs": [
    {
     "name": "stdout",
     "output_type": "stream",
     "text": [
      "day_of_week\n",
      "Sunday       190\n",
      "Tuesday      187\n",
      "Friday       184\n",
      "Saturday     175\n",
      "Wednesday    167\n",
      "Monday       131\n",
      "Thursday     124\n",
      "Name: count, dtype: int64\n",
      "Делаем вывод - частично правда. Большинство проигранных мтчей дейстительно приходит на Sunday = 190 матчей,\n",
      "но 2-ой день недели с большинством проигранных матчей приходится на Tuesday = 187 матчей\n"
     ]
    }
   ],
   "source": [
    "'''Считаем кол-во проигранных игр домашней команды в нашем исходном датафрейме (df), \n",
    "   для столбца дня недели проведения матча (day_of_week), что бы определить \n",
    "   общее кол-во поражений в определенный день недели используя метод value_counts()'''\n",
    "home_loss = df[df['home_team_loss'] == 1]['day_of_week'].value_counts()\n",
    "\n",
    "'Выводим на печать общее кол-во проигранных матчей, для каждого дня в неделе'\n",
    "print(home_loss)\n",
    "\n",
    "print(f'''Делаем вывод - частично правда. Большинство проигранных мтчей дейстительно приходит на {home_loss.idxmax()} = {home_loss.max()} матчей,\n",
    "но 2-ой день недели с большинством проигранных матчей приходится на {home_loss.index[1]} = {home_loss.iloc[1]} матчей''')"
   ]
  },
  {
   "cell_type": "markdown",
   "metadata": {
    "pycharm": {
     "name": "#%% md\n"
    }
   },
   "source": [
    "# 20. Правда ли что наибольшее количество ранов происходит в холодную погоду? (Холодной погодой считается погода ниже 0 градусов)"
   ]
  },
  {
   "cell_type": "code",
   "execution_count": 30,
   "metadata": {
    "pycharm": {
     "name": "#%%\n"
    }
   },
   "outputs": [
    {
     "name": "stdout",
     "output_type": "stream",
     "text": [
      "Неправда. В холодную погоду (ниже 0 градусов) кол-во ранов = 12, в теплую (0 и выше) = 21991.\n"
     ]
    }
   ],
   "source": [
    "'''Изменяем признак (столбец) temperature обращаясь к нему, для перевода Фаренгейтов в градусы Цельсия, что бы найти температуру ниже 0 градусов'''\n",
    "df['temperature'] = (df['temperature'] - 32) * 5.0/9.0\n",
    "\n",
    "'''Находим сумму ранов в теплую погоду, для перезаписанного столбца temperature в интервале [0, +oo]\n",
    "и обращаемся к общему кол-ву ранов для двух команд'''\n",
    "warm_runs = df[df['temperature'] >= 0]['total_runs'].sum()\n",
    "\n",
    "'''Находим сумму ранов в холодную погоду, для перезаписанного столбца temperature в интервале (-oo, 0)\n",
    "и обращаемся к общему кол-ву ранов для двух команд'''\n",
    "cold_runs = df[df['temperature'] < 0]['total_runs'].sum()\n",
    "\n",
    "'''Выводим на печать общее кол-во ранов в теплую и холодую погоду'''\n",
    "print(f'Неправда. В холодную погоду (ниже 0 градусов) кол-во ранов = {cold_runs}, в теплую (0 и выше) = {warm_runs}.')"
   ]
  },
  {
   "cell_type": "code",
   "execution_count": null,
   "metadata": {},
   "outputs": [],
   "source": []
  },
  {
   "cell_type": "code",
   "execution_count": null,
   "metadata": {},
   "outputs": [],
   "source": []
  }
 ],
 "metadata": {
  "kernelspec": {
   "display_name": "Python 3 (ipykernel)",
   "language": "python",
   "name": "python3"
  },
  "language_info": {
   "codemirror_mode": {
    "name": "ipython",
    "version": 3
   },
   "file_extension": ".py",
   "mimetype": "text/x-python",
   "name": "python",
   "nbconvert_exporter": "python",
   "pygments_lexer": "ipython3",
   "version": "3.12.1"
  }
 },
 "nbformat": 4,
 "nbformat_minor": 4
}
